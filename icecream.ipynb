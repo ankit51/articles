{
 "cells": [
  {
   "cell_type": "markdown",
   "metadata": {},
   "source": [
    "### Big Program Debug"
   ]
  },
  {
   "cell_type": "code",
   "execution_count": 8,
   "metadata": {},
   "outputs": [
    {
     "data": {
      "text/plain": [
       "21"
      ]
     },
     "execution_count": 8,
     "metadata": {},
     "output_type": "execute_result"
    }
   ],
   "source": [
    "def add_10_or_12(x):\n",
    "    if x < 10:\n",
    "        return x+12\n",
    "    else:\n",
    "        return x+10\n",
    "add_10_or_12(9)"
   ]
  },
  {
   "cell_type": "code",
   "execution_count": 9,
   "metadata": {},
   "outputs": [
    {
     "name": "stdout",
     "output_type": "stream",
     "text": [
      "21\n"
     ]
    },
    {
     "data": {
      "text/plain": [
       "21"
      ]
     },
     "execution_count": 9,
     "metadata": {},
     "output_type": "execute_result"
    }
   ],
   "source": [
    "def add_10_or_12(x):\n",
    "    if x < 10:\n",
    "        print (x+12)\n",
    "        return x+12\n",
    "    else:\n",
    "        print (x+10)\n",
    "        return x+10\n",
    "add_10_or_12(9)"
   ]
  },
  {
   "cell_type": "code",
   "execution_count": 10,
   "metadata": {},
   "outputs": [
    {
     "name": "stdout",
     "output_type": "stream",
     "text": [
      "x+12: 21\n"
     ]
    },
    {
     "data": {
      "text/plain": [
       "21"
      ]
     },
     "execution_count": 10,
     "metadata": {},
     "output_type": "execute_result"
    }
   ],
   "source": [
    "def add_10_or_12(x):\n",
    "    if x < 10:\n",
    "        print ('x+12:', x+12)\n",
    "        return x+12\n",
    "    else:\n",
    "        print ('x+10:', x+10)\n",
    "        return x+10\n",
    "add_10_or_12(9)"
   ]
  },
  {
   "cell_type": "code",
   "execution_count": 11,
   "metadata": {},
   "outputs": [
    {
     "name": "stdout",
     "output_type": "stream",
     "text": [
      "add_10(x) 19\n"
     ]
    },
    {
     "data": {
      "text/plain": [
       "19"
      ]
     },
     "execution_count": 11,
     "metadata": {},
     "output_type": "execute_result"
    }
   ],
   "source": [
    "def add_10(x):\n",
    "    return x+10\n",
    "\n",
    "def add_12(x):\n",
    "    return x+12\n",
    "\n",
    "def add_10_or_12(x):\n",
    "    if x < 10:\n",
    "        print (\"add_10(x)\", add_10(x))\n",
    "        return add_10(x)\n",
    "    else:\n",
    "        print (\"add_12(x)\", add_12(x))\n",
    "        return add_12(x)\n",
    "add_10_or_12(9)"
   ]
  },
  {
   "cell_type": "code",
   "execution_count": 14,
   "metadata": {},
   "outputs": [
    {
     "name": "stderr",
     "output_type": "stream",
     "text": [
      "ic| add_10_or_12(9): 19\n"
     ]
    },
    {
     "data": {
      "text/plain": [
       "19"
      ]
     },
     "execution_count": 14,
     "metadata": {},
     "output_type": "execute_result"
    }
   ],
   "source": [
    "from icecream import ic\n",
    "\n",
    "def add_10_or_12(x):\n",
    "    if x < 10:\n",
    "        return add_10(x)\n",
    "    else:\n",
    "        return add_12(x)\n",
    "\n",
    "ic(add_10_or_12(9))"
   ]
  },
  {
   "cell_type": "code",
   "execution_count": null,
   "metadata": {},
   "outputs": [],
   "source": []
  }
 ],
 "metadata": {
  "kernelspec": {
   "display_name": "Python 3",
   "language": "python",
   "name": "python3"
  },
  "language_info": {
   "codemirror_mode": {
    "name": "ipython",
    "version": 3
   },
   "file_extension": ".py",
   "mimetype": "text/x-python",
   "name": "python",
   "nbconvert_exporter": "python",
   "pygments_lexer": "ipython3",
   "version": "3.7.1"
  }
 },
 "nbformat": 4,
 "nbformat_minor": 2
}
